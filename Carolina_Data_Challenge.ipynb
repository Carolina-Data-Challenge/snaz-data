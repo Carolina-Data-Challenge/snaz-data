{
 "cells": [
  {
   "cell_type": "code",
   "execution_count": 2,
   "metadata": {},
   "outputs": [],
   "source": [
    "import pandas as pd"
   ]
  },
  {
   "cell_type": "markdown",
   "metadata": {},
   "source": [
    "## Notes About Data\n",
    "\n",
    "#### PPPGDP\n",
    "purchasing power parity GDP:  compares the gross domestic product (GDP) or value of all final goods and services produced within a nation in a given year. A nation's GDP at purchasing power parity (PPP) exchange rates is the sum value of all goods and services produced in the country valued at prices prevailing in the United States."
   ]
  },
  {
   "cell_type": "code",
   "execution_count": 4,
   "metadata": {},
   "outputs": [],
   "source": [
    "df = pd.read_excel('WorldEconomicOutlookData.xls') "
   ]
  },
  {
   "cell_type": "code",
   "execution_count": 7,
   "metadata": {},
   "outputs": [],
   "source": [
    "gspend = df.copy()"
   ]
  },
  {
   "cell_type": "code",
   "execution_count": 9,
   "metadata": {},
   "outputs": [
    {
     "data": {
      "text/plain": [
       "array(['NGDP_RPCH', 'PPPGDP', 'NGDPRPPPPCPCH', 'PCPIPCH', 'PCPIEPCH',\n",
       "       'LUR', 'GGXCNL_NGDP', 'BCA_NGDPD', nan], dtype=object)"
      ]
     },
     "execution_count": 9,
     "metadata": {},
     "output_type": "execute_result"
    }
   ],
   "source": [
    "gspend['WEO Subject Code'].unique()\n"
   ]
  },
  {
   "cell_type": "code",
   "execution_count": 18,
   "metadata": {},
   "outputs": [
    {
     "data": {
      "text/plain": [
       "array(['AFG', 'ALB', 'DZA', 'AGO', 'ATG', 'ARG', 'ARM', 'ABW', 'AUS',\n",
       "       'AUT', 'AZE', 'BHS', 'BHR', 'BGD', 'BRB', 'BLR', 'BEL', 'BLZ',\n",
       "       'BEN', 'BTN', 'BOL', 'BIH', 'BWA', 'BRA', 'BRN', 'BGR', 'BFA',\n",
       "       'BDI', 'CPV', 'KHM', 'CMR', 'CAN', 'CAF', 'TCD', 'CHL', 'CHN',\n",
       "       'COL', 'COM', 'COD', 'COG', 'CRI', 'CIV', 'HRV', 'CYP', 'CZE',\n",
       "       'DNK', 'DJI', 'DMA', 'DOM', 'ECU', 'EGY', 'SLV', 'GNQ', 'ERI',\n",
       "       'EST', 'SWZ', 'ETH', 'FJI', 'FIN', 'FRA', 'GAB', 'GMB', 'GEO',\n",
       "       'DEU', 'GHA', 'GRC', 'GRD', 'GTM', 'GIN', 'GNB', 'GUY', 'HTI',\n",
       "       'HND', 'HKG', 'HUN', 'ISL', 'IND', 'IDN', 'IRN', 'IRQ', 'IRL',\n",
       "       'ISR', 'ITA', 'JAM', 'JPN', 'JOR', 'KAZ', 'KEN', 'KIR', 'KOR',\n",
       "       'UVK', 'KWT', 'KGZ', 'LAO', 'LVA', 'LBN', 'LSO', 'LBR', 'LBY',\n",
       "       'LTU', 'LUX', 'MAC', 'MDG', 'MWI', 'MYS', 'MDV', 'MLI', 'MLT',\n",
       "       'MHL', 'MRT', 'MUS', 'MEX', 'FSM', 'MDA', 'MNG', 'MNE', 'MAR',\n",
       "       'MOZ', 'MMR', 'NAM', 'NRU', 'NPL', 'NLD', 'NZL', 'NIC', 'NER',\n",
       "       'NGA', 'MKD', 'NOR', 'OMN', 'PAK', 'PLW', 'PAN', 'PNG', 'PRY',\n",
       "       'PER', 'PHL', 'POL', 'PRT', 'PRI', 'QAT', 'ROU', 'RUS', 'RWA',\n",
       "       'WSM', 'SMR', 'STP', 'SAU', 'SEN', 'SRB', 'SYC', 'SLE', 'SGP',\n",
       "       'SVK', 'SVN', 'SLB', 'SOM', 'ZAF', 'SSD', 'ESP', 'LKA', 'KNA',\n",
       "       'LCA', 'VCT', 'SDN', 'SUR', 'SWE', 'CHE', 'SYR', 'TWN', 'TJK',\n",
       "       'TZA', 'THA', 'TLS', 'TGO', 'TON', 'TTO', 'TUN', 'TUR', 'TKM',\n",
       "       'TUV', 'UGA', 'UKR', 'ARE', 'GBR', 'USA', 'URY', 'UZB', 'VUT',\n",
       "       'VEN', 'VNM', 'YEM', 'ZMB', 'ZWE', nan], dtype=object)"
      ]
     },
     "execution_count": 18,
     "metadata": {},
     "output_type": "execute_result"
    }
   ],
   "source": [
    "gspend['ISO'].unique()"
   ]
  },
  {
   "cell_type": "code",
   "execution_count": 21,
   "metadata": {},
   "outputs": [
    {
     "data": {
      "text/html": [
       "<div>\n",
       "<style scoped>\n",
       "    .dataframe tbody tr th:only-of-type {\n",
       "        vertical-align: middle;\n",
       "    }\n",
       "\n",
       "    .dataframe tbody tr th {\n",
       "        vertical-align: top;\n",
       "    }\n",
       "\n",
       "    .dataframe thead th {\n",
       "        text-align: right;\n",
       "    }\n",
       "</style>\n",
       "<table border=\"1\" class=\"dataframe\">\n",
       "  <thead>\n",
       "    <tr style=\"text-align: right;\">\n",
       "      <th></th>\n",
       "      <th>WEO Country Code</th>\n",
       "      <th>ISO</th>\n",
       "      <th>WEO Subject Code</th>\n",
       "      <th>Country</th>\n",
       "      <th>Subject Descriptor</th>\n",
       "      <th>Subject Notes</th>\n",
       "      <th>Units</th>\n",
       "      <th>Scale</th>\n",
       "      <th>Country/Series-specific Notes</th>\n",
       "      <th>1980</th>\n",
       "      <th>...</th>\n",
       "      <th>2013</th>\n",
       "      <th>2014</th>\n",
       "      <th>2015</th>\n",
       "      <th>2016</th>\n",
       "      <th>2017</th>\n",
       "      <th>2018</th>\n",
       "      <th>2019</th>\n",
       "      <th>2020</th>\n",
       "      <th>2021</th>\n",
       "      <th>Estimates Start After</th>\n",
       "    </tr>\n",
       "  </thead>\n",
       "  <tbody>\n",
       "    <tr>\n",
       "      <th>0</th>\n",
       "      <td>512</td>\n",
       "      <td>AFG</td>\n",
       "      <td>NGDP_RPCH</td>\n",
       "      <td>Afghanistan</td>\n",
       "      <td>Gross domestic product, constant prices</td>\n",
       "      <td>Annual percentages of constant price GDP are y...</td>\n",
       "      <td>Percent change</td>\n",
       "      <td>NaN</td>\n",
       "      <td>Source: National Statistics Office Latest actu...</td>\n",
       "      <td>NaN</td>\n",
       "      <td>...</td>\n",
       "      <td>5.683</td>\n",
       "      <td>2.697</td>\n",
       "      <td>0.988</td>\n",
       "      <td>2.164</td>\n",
       "      <td>2.889</td>\n",
       "      <td>2.664</td>\n",
       "      <td>3.037</td>\n",
       "      <td>-3.007</td>\n",
       "      <td>4.495</td>\n",
       "      <td>2018.0</td>\n",
       "    </tr>\n",
       "    <tr>\n",
       "      <th>1</th>\n",
       "      <td>512</td>\n",
       "      <td>AFG</td>\n",
       "      <td>PPPGDP</td>\n",
       "      <td>Afghanistan</td>\n",
       "      <td>Gross domestic product, current prices</td>\n",
       "      <td>These data form the basis for the country weig...</td>\n",
       "      <td>Purchasing power parity; international dollars</td>\n",
       "      <td>Billions</td>\n",
       "      <td>Source: National Statistics Office Latest actu...</td>\n",
       "      <td>NaN</td>\n",
       "      <td>...</td>\n",
       "      <td>60.181</td>\n",
       "      <td>62.948</td>\n",
       "      <td>64.231</td>\n",
       "      <td>66.301</td>\n",
       "      <td>69.501</td>\n",
       "      <td>73.091</td>\n",
       "      <td>76.624</td>\n",
       "      <td>74.792</td>\n",
       "      <td>79.678</td>\n",
       "      <td>2018.0</td>\n",
       "    </tr>\n",
       "    <tr>\n",
       "      <th>2</th>\n",
       "      <td>512</td>\n",
       "      <td>AFG</td>\n",
       "      <td>NGDPRPPPPCPCH</td>\n",
       "      <td>Afghanistan</td>\n",
       "      <td>Gross domestic product per capita, constant pr...</td>\n",
       "      <td>GDP is expressed in constant international dol...</td>\n",
       "      <td>Purchasing power parity; percent change</td>\n",
       "      <td>NaN</td>\n",
       "      <td>Source: National Statistics Office Latest actu...</td>\n",
       "      <td>NaN</td>\n",
       "      <td>...</td>\n",
       "      <td>2.236</td>\n",
       "      <td>-0.521</td>\n",
       "      <td>-1.941</td>\n",
       "      <td>-0.547</td>\n",
       "      <td>0.358</td>\n",
       "      <td>1.268</td>\n",
       "      <td>1.654</td>\n",
       "      <td>-4.291</td>\n",
       "      <td>3.063</td>\n",
       "      <td>2018.0</td>\n",
       "    </tr>\n",
       "    <tr>\n",
       "      <th>3</th>\n",
       "      <td>512</td>\n",
       "      <td>AFG</td>\n",
       "      <td>PCPIPCH</td>\n",
       "      <td>Afghanistan</td>\n",
       "      <td>Inflation, average consumer prices</td>\n",
       "      <td>Annual percentages of average consumer prices ...</td>\n",
       "      <td>Percent change</td>\n",
       "      <td>NaN</td>\n",
       "      <td>Source: National Statistics Office Latest actu...</td>\n",
       "      <td>NaN</td>\n",
       "      <td>...</td>\n",
       "      <td>7.386</td>\n",
       "      <td>4.674</td>\n",
       "      <td>-0.662</td>\n",
       "      <td>4.384</td>\n",
       "      <td>4.976</td>\n",
       "      <td>0.626</td>\n",
       "      <td>2.302</td>\n",
       "      <td>4.711</td>\n",
       "      <td>4.451</td>\n",
       "      <td>2018.0</td>\n",
       "    </tr>\n",
       "    <tr>\n",
       "      <th>4</th>\n",
       "      <td>512</td>\n",
       "      <td>AFG</td>\n",
       "      <td>PCPIEPCH</td>\n",
       "      <td>Afghanistan</td>\n",
       "      <td>Inflation, end of period consumer prices</td>\n",
       "      <td>Annual percentages of end of period consumer ...</td>\n",
       "      <td>Percent change</td>\n",
       "      <td>NaN</td>\n",
       "      <td>Source: National Statistics Office Latest actu...</td>\n",
       "      <td>NaN</td>\n",
       "      <td>...</td>\n",
       "      <td>7.241</td>\n",
       "      <td>1.487</td>\n",
       "      <td>1.131</td>\n",
       "      <td>4.588</td>\n",
       "      <td>3.041</td>\n",
       "      <td>0.755</td>\n",
       "      <td>2.773</td>\n",
       "      <td>4.5</td>\n",
       "      <td>5.000</td>\n",
       "      <td>2018.0</td>\n",
       "    </tr>\n",
       "  </tbody>\n",
       "</table>\n",
       "<p>5 rows × 52 columns</p>\n",
       "</div>"
      ],
      "text/plain": [
       "  WEO Country Code  ISO WEO Subject Code      Country  \\\n",
       "0              512  AFG        NGDP_RPCH  Afghanistan   \n",
       "1              512  AFG           PPPGDP  Afghanistan   \n",
       "2              512  AFG    NGDPRPPPPCPCH  Afghanistan   \n",
       "3              512  AFG          PCPIPCH  Afghanistan   \n",
       "4              512  AFG         PCPIEPCH  Afghanistan   \n",
       "\n",
       "                                  Subject Descriptor  \\\n",
       "0            Gross domestic product, constant prices   \n",
       "1             Gross domestic product, current prices   \n",
       "2  Gross domestic product per capita, constant pr...   \n",
       "3                 Inflation, average consumer prices   \n",
       "4           Inflation, end of period consumer prices   \n",
       "\n",
       "                                       Subject Notes  \\\n",
       "0  Annual percentages of constant price GDP are y...   \n",
       "1  These data form the basis for the country weig...   \n",
       "2  GDP is expressed in constant international dol...   \n",
       "3  Annual percentages of average consumer prices ...   \n",
       "4   Annual percentages of end of period consumer ...   \n",
       "\n",
       "                                            Units     Scale  \\\n",
       "0                                  Percent change       NaN   \n",
       "1  Purchasing power parity; international dollars  Billions   \n",
       "2         Purchasing power parity; percent change       NaN   \n",
       "3                                  Percent change       NaN   \n",
       "4                                  Percent change       NaN   \n",
       "\n",
       "                       Country/Series-specific Notes 1980  ...    2013  \\\n",
       "0  Source: National Statistics Office Latest actu...  NaN  ...   5.683   \n",
       "1  Source: National Statistics Office Latest actu...  NaN  ...  60.181   \n",
       "2  Source: National Statistics Office Latest actu...  NaN  ...   2.236   \n",
       "3  Source: National Statistics Office Latest actu...  NaN  ...   7.386   \n",
       "4  Source: National Statistics Office Latest actu...  NaN  ...   7.241   \n",
       "\n",
       "     2014    2015    2016    2017    2018    2019    2020    2021  \\\n",
       "0   2.697   0.988   2.164   2.889   2.664   3.037  -3.007   4.495   \n",
       "1  62.948  64.231  66.301  69.501  73.091  76.624  74.792  79.678   \n",
       "2  -0.521  -1.941  -0.547   0.358   1.268   1.654  -4.291   3.063   \n",
       "3   4.674  -0.662   4.384   4.976   0.626   2.302   4.711   4.451   \n",
       "4   1.487   1.131   4.588   3.041   0.755   2.773     4.5   5.000   \n",
       "\n",
       "  Estimates Start After  \n",
       "0                2018.0  \n",
       "1                2018.0  \n",
       "2                2018.0  \n",
       "3                2018.0  \n",
       "4                2018.0  \n",
       "\n",
       "[5 rows x 52 columns]"
      ]
     },
     "execution_count": 21,
     "metadata": {},
     "output_type": "execute_result"
    }
   ],
   "source": [
    "gspend.head()"
   ]
  },
  {
   "cell_type": "code",
   "execution_count": 14,
   "metadata": {},
   "outputs": [
    {
     "data": {
      "text/plain": [
       "array(['Gross domestic product, constant prices',\n",
       "       'Gross domestic product, current prices',\n",
       "       'Gross domestic product per capita, constant prices',\n",
       "       'Inflation, average consumer prices',\n",
       "       'Inflation, end of period consumer prices', 'Unemployment rate',\n",
       "       'General government net lending/borrowing',\n",
       "       'Current account balance', nan], dtype=object)"
      ]
     },
     "execution_count": 14,
     "metadata": {},
     "output_type": "execute_result"
    }
   ],
   "source": [
    "gspend['Subject Descriptor'].unique()"
   ]
  },
  {
   "cell_type": "code",
   "execution_count": 23,
   "metadata": {},
   "outputs": [
    {
     "data": {
      "text/plain": [
       "array(['Annual percentages of constant price GDP are year-on-year changes; the base year is country-specific . Expenditure-based GDP is total final expenditures at purchasers? prices (including the f.o.b. value of exports of goods and services), less the f.o.b. value of imports of goods and services. [SNA 1993]',\n",
       "       'These data form the basis for the country weights used to generate the World Economic Outlook country group composites for the domestic economy.   The IMF is not a primary source for purchasing power parity (PPP) data. WEO weights have been created from primary sources and are used solely for purposes of generating country group composites. For primary source information, please refer to one of the following sources: the Organization for Economic Cooperation and Development, the World Bank, or the Penn World Tables.   For further information see Box A2 in the April 2004 World Economic Outlook, Box 1.2 in the September 2003 World Economic Outlook for a discussion on the measurement of global growth and Box A.1 in the May 2000 World Economic Outlook for a summary of the revised PPP-based weights, and Annex IV of the May 1993 World Economic Outlook. See also Anne Marie Gulde and Marianne Schulze-Ghattas, Purchasing Power Parity Based Weights for the World Economic Outlook, in Staff Studies for the World Economic Outlook (Washington: IMF, December 1993), pp. 106-23.',\n",
       "       'GDP is expressed in constant international dollars per person. Data are derived by dividing constant price purchasing-power parity (PPP) GDP by total population.',\n",
       "       'Annual percentages of average consumer prices are year-on-year changes.',\n",
       "       ' Annual percentages of end of period consumer prices are year-on-year changes.',\n",
       "       'Unemployment rate can be defined by either the national definition, the ILO harmonized definition, or the OECD harmonized definition. The OECD harmonized unemployment rate gives the number of unemployed persons as a percentage of the labor force (the total number of people employed plus unemployed). [OECD Main Economic Indicators, OECD, monthly] As defined by the International Labour Organization, unemployed workers are those who are currently not working but are willing and able to work for pay, currently available to work, and have actively searched for work. [ILO, http://www.ilo.org/public/english/bureau/stat/res/index.htm]',\n",
       "       'Net lending (+)/ borrowing (?) is calculated as revenue minus total expenditure. This is a core GFS balance that measures the extent to which general government is either putting financial resources at the disposal of other sectors in the economy and nonresidents (net lending), or utilizing the financial resources generated by other sectors and nonresidents (net borrowing). This balance may be viewed as an indicator of the financial impact of general government activity on the rest of the economy and nonresidents (GFSM 2001, paragraph 4.17). Note: Net lending (+)/borrowing (?) is also equal to net acquisition of financial assets minus net incurrence of liabilities.',\n",
       "       'Current account is all transactions other than those in financial and capital items. The major classifications are goods and services, income and current transfers. The focus of the BOP is on transactions (between an economy and the rest of the world) in goods, services, and income.',\n",
       "       nan], dtype=object)"
      ]
     },
     "execution_count": 23,
     "metadata": {},
     "output_type": "execute_result"
    }
   ],
   "source": [
    "gspend['Subject Notes'].unique()"
   ]
  },
  {
   "cell_type": "markdown",
   "metadata": {},
   "source": [
    "# TO-DO\n",
    "1. research: 'NGDP_RPCH', 'PPPGDP', 'NGDPRPPPPCPCH', 'PCPIPCH', 'PCPIEPCH',\n",
    "       'LUR', 'GGXCNL_NGDP', 'BCA_NGDPD' -- what is importance of each?\n",
    "2. Understand -- what is each subject descriptor? Look up example stat graphs for each\n",
    "3. Understand -- where does subject notes come into picture? (what subject notes elicit which subject descriptors and vice versa)  \n",
    "4. read through subject Notes: standardize to numbers \n",
    "5. group by subject descriptor (7 different dfs)\n"
   ]
  },
  {
   "cell_type": "code",
   "execution_count": null,
   "metadata": {},
   "outputs": [],
   "source": []
  }
 ],
 "metadata": {
  "kernelspec": {
   "display_name": "Python 3",
   "language": "python",
   "name": "python3"
  },
  "language_info": {
   "codemirror_mode": {
    "name": "ipython",
    "version": 3
   },
   "file_extension": ".py",
   "mimetype": "text/x-python",
   "name": "python",
   "nbconvert_exporter": "python",
   "pygments_lexer": "ipython3",
   "version": "3.7.6"
  }
 },
 "nbformat": 4,
 "nbformat_minor": 4
}
