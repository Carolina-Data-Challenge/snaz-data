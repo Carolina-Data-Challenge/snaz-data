{
 "cells": [
  {
   "cell_type": "code",
   "execution_count": 2,
   "metadata": {},
   "outputs": [],
   "source": [
    "import pandas as pd"
   ]
  },
  {
   "cell_type": "code",
   "execution_count": 92,
   "metadata": {},
   "outputs": [],
   "source": [
    "df = pd.read_excel('WorldEconomicOutlookData.xls') "
   ]
  },
  {
   "cell_type": "code",
   "execution_count": 105,
   "metadata": {},
   "outputs": [],
   "source": [
    "## Cleaning rows with too many Null values\n",
    "# df[df[['Subject Descriptor', 'Subject Notes']].isna().any(axis = 1)]\n",
    "# indices 1552, 1553 almost all NaN\n",
    "gspend = df.copy()\n",
    "gspend.drop([1552, 1553], inplace = True)\n",
    "# cleaning Subject Notes\n",
    "gspend.drop(['Subject Notes'], axis = 1, inplace = True)\n",
    "\n",
    "# group based on the different Subjects\n",
    "years = [i for i in range(1980, 2022)]\n",
    "\n",
    "gdp_constant = gspend[gspend['WEO Subject Code'] == 'NGDP_RPCH'][['Country',2021, 2020, 2019, 2018, 2017, 2016, 2015, 2014, 2013, 2012, 2011, 2010]]\n",
    "gdp_current = gspend[gspend['WEO Subject Code'] == 'PPPGDP'][['Country',2021, 2020, 2019, 2018, 2017, 2016, 2015, 2014, 2013, 2012, 2011, 2010]]\n",
    "gdp_capita = gspend[gspend['WEO Subject Code'] == 'NGDPRPPPPCPCH'][['Country',2021, 2020, 2019, 2018, 2017, 2016, 2015, 2014, 2013, 2012, 2011, 2010]]\n",
    "inflation_capita = gspend[gspend['WEO Subject Code'] == 'PCPIPCH'][['Country',2021, 2020, 2019, 2018, 2017, 2016, 2015, 2014, 2013, 2012, 2011, 2010]]\n",
    "inflation_end = gspend[gspend['WEO Subject Code'] == 'PCPIEPCH'][['Country',2021, 2020, 2019, 2018, 2017, 2016, 2015, 2014, 2013, 2012, 2011, 2010]]\n",
    "unemployment_rate = gspend[gspend['WEO Subject Code'] == 'LUR'][['Country',2021, 2020, 2019, 2018, 2017, 2016, 2015, 2014, 2013, 2012, 2011, 2010]]\n",
    "gen_gov = gspend[gspend['WEO Subject Code'] == 'GGXCNL_NGDP'][['Country',2021, 2020, 2019, 2018, 2017, 2016, 2015, 2014, 2013, 2012, 2011, 2010]]\n",
    "current_acc = gspend[gspend['WEO Subject Code'] == 'BCA_NGDPD'][['Country',2021, 2020, 2019, 2018, 2017, 2016, 2015, 2014, 2013, 2012, 2011, 2010]]\n",
    "\n"
   ]
  },
  {
   "cell_type": "code",
   "execution_count": 61,
   "metadata": {},
   "outputs": [],
   "source": [
    "import numpy as np\n",
    "import seaborn as sns"
   ]
  },
  {
   "cell_type": "code",
   "execution_count": 128,
   "metadata": {},
   "outputs": [],
   "source": [
    "# gdp by country: avg over last 5 years horizantal graph\n",
    "## NOTES:\n",
    "# Current Prices measures GDP/ inflation/asset prices using the \n",
    "# actual prices we notice in the economy. Constant prices adjust \n",
    "# for the effects of inflation.\n",
    "\n",
    "years_5 = [i for i in range(2014, 2020)]\n",
    "avg_current_5 = []\n",
    "avg_constant_5 = []\n",
    "\n",
    "def avg_gdp_country(country, df):\n",
    "    avg = 0\n",
    "    dff = df[df['Country'] == country]\n",
    "    for i in years_5:\n",
    "        avg = avg + dff[i]\n",
    "    avg = avg/5\n",
    "    return avg\n",
    "\n",
    "for i in gdp_constant['Country']:\n",
    "    avg_constant_5.append(avg_gdp_country(i, gdp_constant))\n",
    "    avg_current_5.append(avg_gdp_country(i, gdp_current))\n",
    "    \n",
    "dict_current = {'Country': list(gdp_current['Country'].unique()), \n",
    "               'Avg Current Last 5 Year': avg_current_5}\n",
    "dict_constant = {'Country': list(gdp_constant['Country'].unique()), \n",
    "               'Avg Constant Last 5 Year': avg_constant_5}\n",
    "    \n",
    "gdp_current_graph = pd.DataFrame.from_dict(dict_current)\n",
    "gdp_constant_graph = pd.DataFrame.from_dict(dict_constant)\n",
    "\n",
    "#gdp_constant_graph = pd.DataFrame()\n",
    "# gdp_constant_5 = \n",
    "# gdp_current_5 = \n",
    "\n",
    "\n",
    "\n",
    "# sns.set_color_codes(\"pastel\")\n",
    "# sns.barplot(x=\"\", y=\"abbrev\", data=crashes,\n",
    "#             label=\"Total\", color=\"b\")\n",
    "import matplotlib.pyplot as plt\n",
    "sns.set(style=\"whitegrid\")\n",
    "\n",
    "# Initialize the matplotlib figure\n",
    "f, ax = plt.subplots(figsize=(6, 50))\n",
    "\n",
    "# Plot the bar plot with GDP and current price\n",
    "sns.set_color_codes(\"pastel\")\n",
    "sns.barplot(x=\"Avg Current Last 5 Year\", y=\"Country\", data=gdp_current_graph,\n",
    "            label=\"Avg Current Last 5 Year\", color=\"b\")\n",
    "\n",
    "# Plot the barplot with GDP and constant price\n",
    "sns.set_color_codes(\"muted\")\n",
    "sns.barplot(x=\"Avg Constant Last 5 Year\", y=\"Country\", data=gdp_constant_graph,\n",
    "            label=\"Avg Constant Last 5 Year\", color=\"b\")\n",
    "\n",
    "# Add a legend and informative axis label\n",
    "ax.legend(ncol=2, loc=\"lower right\", frameon=True)\n",
    "# ax.set(xlim=(0, 24), ylabel=\"\",\n",
    "#        xlabel=\"Automobile collisions per billion miles\")\n",
    "# sns.despine(left=True, bottom=True)"
   ]
  },
  {
   "cell_type": "markdown",
   "metadata": {},
   "source": [
    "# TO-DO\n",
    "1. research: 'NGDP_RPCH', 'PPPGDP', 'NGDPRPPPPCPCH', 'PCPIPCH', 'PCPIEPCH',\n",
    "       'LUR', 'GGXCNL_NGDP', 'BCA_NGDPD' -- what is importance of each?\n",
    "2. Understand -- what is each subject descriptor? Look up example stat graphs for each\n",
    "3. Understand -- where does subject notes come into picture? (what subject notes elicit which subject descriptors and vice versa)  \n",
    "4. read through subject Notes: standardize to numbers \n",
    "5. group by subject descriptor (7 different dfs)\n"
   ]
  },
  {
   "cell_type": "code",
   "execution_count": null,
   "metadata": {},
   "outputs": [],
   "source": []
  }
 ],
 "metadata": {
  "kernelspec": {
   "display_name": "Python 3",
   "language": "python",
   "name": "python3"
  },
  "language_info": {
   "codemirror_mode": {
    "name": "ipython",
    "version": 3
   },
   "file_extension": ".py",
   "mimetype": "text/x-python",
   "name": "python",
   "nbconvert_exporter": "python",
   "pygments_lexer": "ipython3",
   "version": "3.7.6"
  }
 },
 "nbformat": 4,
 "nbformat_minor": 4
}
